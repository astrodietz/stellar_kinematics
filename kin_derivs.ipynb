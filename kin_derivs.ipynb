{
 "cells": [
  {
   "cell_type": "code",
   "execution_count": 1,
   "metadata": {},
   "outputs": [],
   "source": [
    "import math as m\n",
    "import numpy as np\n",
    "\n",
    "from galpy.util import bovy_coords as b_c"
   ]
  },
  {
   "cell_type": "code",
   "execution_count": 2,
   "metadata": {},
   "outputs": [],
   "source": [
    "#constants (same as used in galpy)\n",
    "\n",
    "epoch_i=2000\n",
    "\n",
    "if(epoch_i==2000):\n",
    "    ra_NGP=m.radians(192.8594812065348)\n",
    "    dec_NGP=m.radians(27.12825118085622)\n",
    "    theta0=m.radians(122.9319185680026)\n",
    "elif(epoch_i==1950):\n",
    "    ra_NGP=m.radians(192.5)\n",
    "    dec_NGP=m.radians(27.4)\n",
    "    theta0=m.radians(123.)"
   ]
  },
  {
   "cell_type": "code",
   "execution_count": 3,
   "metadata": {},
   "outputs": [
    {
     "name": "stdout",
     "output_type": "stream",
     "text": [
      "[[-0.05487554 -0.8734371  -0.48383499]\n",
      " [ 0.49410945 -0.44482959  0.74698225]\n",
      " [-0.86766614 -0.19807639  0.45598379]]\n"
     ]
    }
   ],
   "source": [
    "#print T matrix\n",
    "\n",
    "T00=-m.cos(theta0)*m.sin(dec_NGP)*m.cos(ra_NGP)-m.sin(theta0)*m.sin(ra_NGP)\n",
    "T01=-m.cos(theta0)*m.sin(dec_NGP)*m.sin(ra_NGP)+m.sin(theta0)*m.cos(ra_NGP)\n",
    "T02=m.cos(theta0)*m.cos(dec_NGP)\n",
    "\n",
    "T10=-m.sin(theta0)*m.sin(dec_NGP)*m.cos(ra_NGP)+m.cos(theta0)*m.sin(ra_NGP)\n",
    "T11=-m.sin(theta0)*m.sin(dec_NGP)*m.sin(ra_NGP)-m.cos(theta0)*m.cos(ra_NGP)\n",
    "T12=m.sin(theta0)*m.cos(dec_NGP)\n",
    "\n",
    "T20=m.cos(dec_NGP)*m.cos(ra_NGP)\n",
    "T21=m.cos(dec_NGP)*m.sin(ra_NGP)\n",
    "T22=m.sin(dec_NGP)\n",
    "\n",
    "T=np.array([[T00,T01,T02],[T10,T11,T12],[T20,T21,T22]])\n",
    "    \n",
    "print T"
   ]
  },
  {
   "cell_type": "code",
   "execution_count": 4,
   "metadata": {},
   "outputs": [],
   "source": [
    "#sample star\n",
    "ra=65.984001\n",
    "ra=m.radians(ra)\n",
    "dec=-1.2241944\n",
    "dec=m.radians(dec)\n",
    "dist=5.439109129\n",
    "rv=-99.2\n",
    "pmra=0.27\n",
    "pmdec=-1.91"
   ]
  },
  {
   "cell_type": "code",
   "execution_count": 5,
   "metadata": {},
   "outputs": [
    {
     "name": "stdout",
     "output_type": "stream",
     "text": [
      "equatorial coord syst (RH)\n",
      "x,y,z = 2.21316711805, 4.96712149717, -0.116204376391 (kpc)\n",
      "\n",
      "Galactic coord syst (RH)\n",
      "x,y,z = [-4.40369322], [-1.20277845], [-2.95714697] (kpc)\n",
      "\n",
      "Galactocentric coord syst (LH)\n",
      "x,y,z = [12.40369322], [-1.20277845], [-2.95714697] (kpc)\n",
      "\n",
      "using galpy:\n",
      "\n",
      "Galactic coord syst (RH)\n",
      "x,y,z = -4.4036932152, -1.20277845133, -2.95714696635 (kpc)\n",
      "\n",
      "Galactocentric coord syst (LH)\n",
      "x,y,z = 12.4036901013, -1.20277001142, -2.95715503626 (kpc)\n"
     ]
    }
   ],
   "source": [
    "#solve xyz\n",
    "\n",
    "#equatorial\n",
    "#right-handed\n",
    "x_equ=m.cos(dec)*m.cos(ra)*dist\n",
    "y_equ=m.cos(dec)*m.sin(ra)*dist\n",
    "z_equ=m.sin(dec)*dist\n",
    "\n",
    "print 'equatorial coord syst (RH)'\n",
    "print 'x,y,z = {}, {}, {} (kpc)'.format(x_equ,y_equ,z_equ)\n",
    "\n",
    "#transform to Galactic\n",
    "x_gal,y_gal,z_gal=T.dot(np.array([[x_equ],[y_equ],[z_equ]]))\n",
    "\n",
    "print '\\nGalactic coord syst (RH)'\n",
    "print 'x,y,z = {}, {}, {} (kpc)'.format(x_gal,y_gal,z_gal)\n",
    "\n",
    "#transform to Galactocentric (LH) (x swaps direction, plus take Xsun into account)\n",
    "x_gc=-x_gal+8.0\n",
    "y_gc=y_gal\n",
    "z_gc=z_gal\n",
    "print '\\nGalactocentric coord syst (LH)'\n",
    "print 'x,y,z = {}, {}, {} (kpc)'.format(x_gc,y_gc,z_gc)\n",
    "\n",
    "#galpy\n",
    "l_GPY, b_GPY = b_c.radec_to_lb(ra, dec, degree=False, epoch=epoch_i)\n",
    "x_gal_GPY, y_gal_GPY, z_gal_GPY = b_c.lbd_to_XYZ(l_GPY, b_GPY, dist, degree=False)\n",
    "\n",
    "print '\\nusing galpy:\\n'\n",
    "print 'Galactic coord syst (RH)'\n",
    "print 'x,y,z = {}, {}, {} (kpc)'.format(x_gal_GPY,y_gal_GPY,z_gal_GPY)\n",
    "\n",
    "x_gc_GPY,y_gc_GPY,z_gc_GPY = b_c.XYZ_to_galcenrect(x_gal_GPY,y_gal_GPY,z_gal_GPY,Xsun=8.0,Zsun=0.0,)\n",
    "                                                             \n",
    "print '\\nGalactocentric coord syst (LH)'\n",
    "print 'x,y,z = {}, {}, {} (kpc)'.format(x_gc_GPY,y_gc_GPY,z_gc_GPY)"
   ]
  },
  {
   "cell_type": "code",
   "execution_count": 6,
   "metadata": {},
   "outputs": [
    {
     "name": "stdout",
     "output_type": "stream",
     "text": [
      "Galactic coord sys (RH):\n",
      "v = [102.87283202], [-19.02427114], [37.00229236] (km/s)\n",
      "\n",
      "Galactocentric coord sys (LH):\n",
      "v = [-102.87283202], [200.97572886], [37.00229236] (km/s)\n",
      "\n",
      "using galpy:\n",
      "\n",
      "Galactic coord sys (RH):\n",
      "v = 102.875070891, -19.0283366704, 37.0006118931 (km/s)\n",
      "\n",
      "Galactocentric coord sys (LH):\n",
      "v = -102.875000229, 200.971513286, 37.0007311953 (km/s)\n"
     ]
    }
   ],
   "source": [
    "A00=m.cos(ra)*m.cos(dec)\n",
    "A01=-m.sin(ra)\n",
    "A02=-m.cos(ra)*m.sin(dec)\n",
    "\n",
    "A10=m.sin(ra)*m.cos(dec)\n",
    "A11=m.cos(ra)\n",
    "A12=-m.sin(ra)*m.sin(dec)\n",
    "\n",
    "A20=m.sin(dec)\n",
    "A21=0.\n",
    "A22=m.cos(dec)\n",
    "\n",
    "A=np.array([[A00,A01,A02],[A10,A11,A12],[A20,A21,A22]])\n",
    "\n",
    "k=4.74\n",
    "v_obs=np.array([[rv],[k*dist*pmra],[k*dist*pmdec]])\n",
    "v_equ=A.dot(v_obs)\n",
    "v_gal=T.dot(v_equ)\n",
    "\n",
    "print 'Galactic coord sys (RH):'\n",
    "print 'v = {}, {}, {} (km/s)'.format(v_gal[0],v_gal[1],v_gal[2])\n",
    "\n",
    "vx_gc=-v_gal[0] #x-component swaps signs (RH->LH)\n",
    "vy_gc=v_gal[1]+220. #add LSR mot\n",
    "vz_gc=v_gal[2]\n",
    "\n",
    "print '\\nGalactocentric coord sys (LH):'\n",
    "print 'v = {}, {}, {} (km/s)'.format(vx_gc,vy_gc,vz_gc)\n",
    "\n",
    "print '\\nusing galpy:\\n'\n",
    "pmll_GPY,pmbb_GPY=b_c.pmrapmdec_to_pmllpmbb(pmra,pmdec,ra,dec,degree=False,epoch=epoch_i)\n",
    "\n",
    "vx_GPY,vy_GPY,vz_GPY=b_c.vrpmllpmbb_to_vxvyvz(rv,pmll_GPY,pmbb_GPY,l_GPY,b_GPY,dist,degree=False)\n",
    "print 'Galactic coord sys (RH):'\n",
    "print 'v = {}, {}, {} (km/s)'.format(vx_GPY,vy_GPY,vz_GPY)\n",
    "\n",
    "vx_gc_GPY,vy_gc_GPY,vz_gc_GPY=b_c.vxvyvz_to_galcenrect(vx_GPY,vy_GPY,vz_GPY,vsun=[0.,220.,0.],Xsun=8.0,Zsun=0.0)\n",
    "print '\\nGalactocentric coord sys (LH):'\n",
    "print 'v = {}, {}, {} (km/s)'.format(vx_gc_GPY,vy_gc_GPY,vz_gc_GPY)"
   ]
  },
  {
   "cell_type": "code",
   "execution_count": 8,
   "metadata": {},
   "outputs": [
    {
     "name": "stdout",
     "output_type": "stream",
     "text": [
      "vr = [-121.79006408]\n",
      "vphi = [190.10850441]\n",
      "\n",
      "using galpy:\n",
      "\n",
      "v_cyl = -121.791691728, 190.104178414, 37.0008504975 (km/s)\n",
      "\n",
      "alternative galpy:\n",
      "(-121.79169172855597, 190.104178413755, 37.00073119533055)\n"
     ]
    }
   ],
   "source": [
    "#cylindrical\n",
    "\n",
    "vr=(x_gc*vx_gc+y_gc*vy_gc)/(m.sqrt(x_gc**2+y_gc**2))\n",
    "\n",
    "vphi=(x_gc*vy_gc-y_gc*vx_gc)/(x_gc**2+y_gc**2)\n",
    "vphi=vphi*(m.sqrt(x_gc**2+y_gc**2))\n",
    "\n",
    "print 'vr = {}'.format(vr)\n",
    "print 'vphi = {}'.format(vphi)\n",
    "\n",
    "\n",
    "print '\\nusing galpy:\\n'\n",
    "\n",
    "vr_GPY,vphi_GPY,vz_GPY=b_c.vxvyvz_to_galcencyl(vx_GPY,vy_GPY,vz_GPY,x_gc_GPY,y_gc_GPY,z_gc_GPY,vsun=[0.,220.,0.],Xsun=8.0,Zsun=0.0)\n",
    "print 'v_cyl = {}, {}, {} (km/s)'.format(vr_GPY,vphi_GPY,vz_GPY)\n",
    "\n",
    "print '\\nalternative galpy:\\n'\n",
    "print b_c.rect_to_cyl_vec(vx_gc_GPY,vy_gc_GPY,vz_gc_GPY,x_gc_GPY,y_gc_GPY,z_gc_GPY)\n"
   ]
  },
  {
   "cell_type": "code",
   "execution_count": null,
   "metadata": {},
   "outputs": [],
   "source": []
  }
 ],
 "metadata": {
  "kernelspec": {
   "display_name": "Python 2",
   "language": "python",
   "name": "python2"
  },
  "language_info": {
   "codemirror_mode": {
    "name": "ipython",
    "version": 2
   },
   "file_extension": ".py",
   "mimetype": "text/x-python",
   "name": "python",
   "nbconvert_exporter": "python",
   "pygments_lexer": "ipython2",
   "version": "2.7.15"
  }
 },
 "nbformat": 4,
 "nbformat_minor": 2
}
